{
 "cells": [
  {
   "cell_type": "code",
   "execution_count": null,
   "metadata": {},
   "outputs": [],
   "source": [
    "import sys\n",
    "sys.path.append('..')\n",
    "from src.train import *\n",
    "dataset_dir=get_dataset_dirs('D:/INRIA')\n",
    "net_dir=get_net_dirs('../unet')\n",
    "dataset_iter=get_data_iterator(dataset_dir['tfrecord'],1,4,10000)\n",
    "unet=NeuralNet()\n",
    "train(unet,net_dir,dataset_iter,3000)"
   ]
  }
 ],
 "metadata": {
  "language_info": {
   "name": "python"
  },
  "orig_nbformat": 4
 },
 "nbformat": 4,
 "nbformat_minor": 2
}
