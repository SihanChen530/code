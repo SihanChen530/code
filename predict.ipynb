{
 "cells": [
  {
   "cell_type": "code",
   "execution_count": null,
   "metadata": {},
   "outputs": [],
   "source": []
  },
  {
   "cell_type": "code",
   "execution_count": null,
   "metadata": {},
   "outputs": [],
   "source": [
    "import sys\n",
    "sys.path.append('..')\n",
    "from src.train import *\n",
    "import cv2"
   ]
  },
  {
   "cell_type": "code",
   "execution_count": null,
   "metadata": {},
   "outputs": [],
   "source": [
    "resize_image('/Users/vienna8.tif', 4096, 4096)\n",
    "split_image('/Usersvienna8.tif', 1024, 1024, '/Users/Desktop/split')\n",
    "n = NeuralNet()\n",
    "images = glob('/Users/split/*.npy')\n",
    "for image in images:\n",
    "    basename = path.basename(image).split('.')[-2]\n",
    "    image = np.load(image)\n",
    "    output = n.predict(image, '/Users/model/cnn_3.ckpt')\n",
    "    if output.shape[-1] == 1:\n",
    "        output = output.reshape((output.shape[0], output.shape[1]))\n",
    "    output = Image.fromarray(np.uint8(output))\n",
    "    output.save('/Users/output/' + basename+'.png')\n",
    "imagelist = glob('/Users/output/*.png')\n",
    "imagelist.sort(key=lambda x: int(path.basename(x)[8:-4]))\n",
    "glut_image(imagelist, 4, 4, 1024, 1024, '/Users/vienna8.png')\n",
    "img = cv2.imread('/Users/vienna8.png')\n",
    "kernel = cv2.getStructuringElement(cv2.MORPH_RECT, (7, 7))\n",
    "opened_out = cv2.morphologyEx(img, cv2.MORPH_OPEN, kernel)\n",
    "cv2.imwrite('/Users/opened_vienna8.png', opened_out)\n",
    "\n",
    "imagelist=glob('/Users/g1/*.*')\n",
    "imagelist.sort(key=lambda x: int(path.basename(x)[:-4]))\n",
    "glut_image(imagelist, 2, 2, 1024, 1024, '/Users/g1/g2.png')\n"
   ]
  }
 ],
 "metadata": {
  "language_info": {
   "name": "python"
  },
  "orig_nbformat": 4
 },
 "nbformat": 4,
 "nbformat_minor": 2
}
