{
 "cells": [
  {
   "cell_type": "code",
   "execution_count": null,
   "metadata": {},
   "outputs": [],
   "source": []
  },
  {
   "cell_type": "code",
   "execution_count": null,
   "metadata": {},
   "outputs": [],
   "source": [
    "import sys\n",
    "sys.path.append('..')\n",
    "from src.train import *"
   ]
  },
  {
   "cell_type": "markdown",
   "metadata": {},
   "source": [
    "# cut dataset"
   ]
  },
  {
   "cell_type": "code",
   "execution_count": null,
   "metadata": {},
   "outputs": [],
   "source": [
    "dataset_dir=get_dataset_dirs('D:/train')\n",
    "original_datas=glob(path.join(dataset_dir['original_data'],'*.tif'))\n",
    "for original_data in original_datas:\n",
    "    split_image(original_data,256,256,dataset_dir['split_data'])\n",
    "original_labels=glob(path.join(dataset_dir['original_label'],'*.tif'))\n",
    "for original_label in original_labels:\n",
    "    split_image(original_label,256,256,dataset_dir['split_label'])"
   ]
  },
  {
   "cell_type": "markdown",
   "metadata": {},
   "source": [
    "# Convert label to numpy matrix"
   ]
  },
  {
   "cell_type": "code",
   "execution_count": null,
   "metadata": {},
   "outputs": [],
   "source": [
    "split_labels=glob(path.join(dataset_dir['split_label'],'*.npy'))\n",
    "for split_label in split_labels:\n",
    "    color_to_class(split_label,dataset_dir['split_label_classed'])"
   ]
  },
  {
   "cell_type": "markdown",
   "metadata": {},
   "source": [
    "# Convert to tfrecord"
   ]
  },
  {
   "cell_type": "code",
   "execution_count": 1,
   "metadata": {},
   "outputs": [
    {
     "ename": "NameError",
     "evalue": "name 'glob' is not defined",
     "output_type": "error",
     "traceback": [
      "\u001b[0;31m---------------------------------------------------------------------------\u001b[0m",
      "\u001b[0;31mNameError\u001b[0m                                 Traceback (most recent call last)",
      "\u001b[1;32m/Users/chensihan/Desktop/csh/code/create_dataset.ipynb 单元格 8\u001b[0m in \u001b[0;36m<cell line: 1>\u001b[0;34m()\u001b[0m\n\u001b[0;32m----> <a href='vscode-notebook-cell:/Users/chensihan/Desktop/csh/code/create_dataset.ipynb#X10sZmlsZQ%3D%3D?line=0'>1</a>\u001b[0m data_list\u001b[39m=\u001b[39m\u001b[39msorted\u001b[39m(glob(path\u001b[39m.\u001b[39mjoin(dataset_dir[\u001b[39m'\u001b[39m\u001b[39msplit_data\u001b[39m\u001b[39m'\u001b[39m],\u001b[39m'\u001b[39m\u001b[39m*.npy\u001b[39m\u001b[39m'\u001b[39m)))\n\u001b[1;32m      <a href='vscode-notebook-cell:/Users/chensihan/Desktop/csh/code/create_dataset.ipynb#X10sZmlsZQ%3D%3D?line=1'>2</a>\u001b[0m label_list\u001b[39m=\u001b[39m\u001b[39msorted\u001b[39m(glob(path\u001b[39m.\u001b[39mjoin(dataset_dir[\u001b[39m'\u001b[39m\u001b[39msplit_label_classed\u001b[39m\u001b[39m'\u001b[39m],\u001b[39m'\u001b[39m\u001b[39m*.npy\u001b[39m\u001b[39m'\u001b[39m)))\n\u001b[1;32m      <a href='vscode-notebook-cell:/Users/chensihan/Desktop/csh/code/create_dataset.ipynb#X10sZmlsZQ%3D%3D?line=2'>3</a>\u001b[0m create_dataset(data_list,label_list,\u001b[39m19\u001b[39m,dataset_dir[\u001b[39m'\u001b[39m\u001b[39mtfrecord\u001b[39m\u001b[39m'\u001b[39m])\n",
      "\u001b[0;31mNameError\u001b[0m: name 'glob' is not defined"
     ]
    }
   ],
   "source": [
    "data_list=sorted(glob(path.join(dataset_dir['split_data'],'*.npy')))\n",
    "label_list=sorted(glob(path.join(dataset_dir['split_label_classed'],'*.npy')))\n",
    "create_dataset(data_list,label_list,19,dataset_dir['tfrecord'])\n"
   ]
  }
 ],
 "metadata": {
  "kernelspec": {
   "display_name": "base",
   "language": "python",
   "name": "python3"
  },
  "language_info": {
   "codemirror_mode": {
    "name": "ipython",
    "version": 3
   },
   "file_extension": ".py",
   "mimetype": "text/x-python",
   "name": "python",
   "nbconvert_exporter": "python",
   "pygments_lexer": "ipython3",
   "version": "3.9.12"
  },
  "orig_nbformat": 4
 },
 "nbformat": 4,
 "nbformat_minor": 2
}
